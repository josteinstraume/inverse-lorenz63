{
 "cells": [
  {
   "cell_type": "code",
   "execution_count": null,
   "metadata": {
    "colab": {
     "base_uri": "https://localhost:8080/"
    },
    "executionInfo": {
     "elapsed": 23329,
     "status": "ok",
     "timestamp": 1637249478671,
     "user": {
      "displayName": "Sam Donald",
      "photoUrl": "https://lh3.googleusercontent.com/a-/AOh14GgwkA1NBJLLx_KAgm16IyA7bvtCODGjm6zOUiSz=s64",
      "userId": "09022405447659301810"
     },
     "user_tz": 300
    },
    "id": "qBjDDEyAWtF6",
    "outputId": "da465922-660b-4ca4-c56e-549ea6a857af"
   },
   "outputs": [
    {
     "name": "stdout",
     "output_type": "stream",
     "text": [
      "Mounted at /content/drive/\n"
     ]
    }
   ],
   "source": [
    "from google.colab import drive\n",
    "drive.mount('/content/drive/')"
   ]
  },
  {
   "cell_type": "markdown",
   "metadata": {
    "id": "CkRhl-XghLCF"
   },
   "source": [
    "Install packages (run only once in the runtime)"
   ]
  },
  {
   "cell_type": "code",
   "execution_count": 1,
   "metadata": {
    "colab": {
     "base_uri": "https://localhost:8080/"
    },
    "executionInfo": {
     "elapsed": 8430,
     "status": "ok",
     "timestamp": 1646159626824,
     "user": {
      "displayName": "Jostein Barry-Straume",
      "photoUrl": "https://lh3.googleusercontent.com/a/default-user=s64",
      "userId": "14559924148079490780"
     },
     "user_tz": 480
    },
    "id": "zvbSafs1hKnd",
    "outputId": "78d150f7-daf6-4bee-d4f8-ad2bc39f8dd1"
   },
   "outputs": [
    {
     "name": "stdout",
     "output_type": "stream",
     "text": [
      "Collecting deepxde\n",
      "  Downloading DeepXDE-1.1.0-py3-none-any.whl (123 kB)\n",
      "\u001b[K     |████████████████████████████████| 123 kB 5.1 MB/s \n",
      "\u001b[?25hRequirement already satisfied: scipy in /usr/local/lib/python3.7/dist-packages (from deepxde) (1.4.1)\n",
      "Requirement already satisfied: matplotlib in /usr/local/lib/python3.7/dist-packages (from deepxde) (3.2.2)\n",
      "Requirement already satisfied: numpy in /usr/local/lib/python3.7/dist-packages (from deepxde) (1.21.5)\n",
      "Collecting scikit-optimize\n",
      "  Downloading scikit_optimize-0.9.0-py2.py3-none-any.whl (100 kB)\n",
      "\u001b[K     |████████████████████████████████| 100 kB 3.3 MB/s \n",
      "\u001b[?25hRequirement already satisfied: scikit-learn in /usr/local/lib/python3.7/dist-packages (from deepxde) (1.0.2)\n",
      "Requirement already satisfied: cycler>=0.10 in /usr/local/lib/python3.7/dist-packages (from matplotlib->deepxde) (0.11.0)\n",
      "Requirement already satisfied: kiwisolver>=1.0.1 in /usr/local/lib/python3.7/dist-packages (from matplotlib->deepxde) (1.3.2)\n",
      "Requirement already satisfied: pyparsing!=2.0.4,!=2.1.2,!=2.1.6,>=2.0.1 in /usr/local/lib/python3.7/dist-packages (from matplotlib->deepxde) (3.0.7)\n",
      "Requirement already satisfied: python-dateutil>=2.1 in /usr/local/lib/python3.7/dist-packages (from matplotlib->deepxde) (2.8.2)\n",
      "Requirement already satisfied: six>=1.5 in /usr/local/lib/python3.7/dist-packages (from python-dateutil>=2.1->matplotlib->deepxde) (1.15.0)\n",
      "Requirement already satisfied: threadpoolctl>=2.0.0 in /usr/local/lib/python3.7/dist-packages (from scikit-learn->deepxde) (3.1.0)\n",
      "Requirement already satisfied: joblib>=0.11 in /usr/local/lib/python3.7/dist-packages (from scikit-learn->deepxde) (1.1.0)\n",
      "Collecting pyaml>=16.9\n",
      "  Downloading pyaml-21.10.1-py2.py3-none-any.whl (24 kB)\n",
      "Requirement already satisfied: PyYAML in /usr/local/lib/python3.7/dist-packages (from pyaml>=16.9->scikit-optimize->deepxde) (3.13)\n",
      "Installing collected packages: pyaml, scikit-optimize, deepxde\n",
      "Successfully installed deepxde-1.1.0 pyaml-21.10.1 scikit-optimize-0.9.0\n"
     ]
    }
   ],
   "source": [
    "!pip install deepxde"
   ]
  },
  {
   "cell_type": "markdown",
   "metadata": {
    "id": "1sfGVj1Zg63V"
   },
   "source": [
    "Imports and functions"
   ]
  },
  {
   "cell_type": "code",
   "execution_count": 2,
   "metadata": {
    "colab": {
     "base_uri": "https://localhost:8080/"
    },
    "executionInfo": {
     "elapsed": 5799,
     "status": "ok",
     "timestamp": 1646159634187,
     "user": {
      "displayName": "Jostein Barry-Straume",
      "photoUrl": "https://lh3.googleusercontent.com/a/default-user=s64",
      "userId": "14559924148079490780"
     },
     "user_tz": 480
    },
    "id": "eyuhFn4fgkld",
    "outputId": "c1d8ebf4-b5e2-4537-dd3d-167b512ac3af"
   },
   "outputs": [
    {
     "name": "stderr",
     "output_type": "stream",
     "text": [
      "Deepxde backend not selected or invalid. Assuming tensorflow.compat.v1 for now.\n",
      "Using backend: tensorflow.compat.v1\n",
      "\n"
     ]
    },
    {
     "name": "stdout",
     "output_type": "stream",
     "text": [
      "Setting the default backend to \"tensorflow.compat.v1\". You can change it in the ~/.deepxde/config.json file or export the DDEBACKEND environment variable. Valid options are: tensorflow.compat.v1, tensorflow, pytorch, jax (all lowercase)\n",
      "WARNING:tensorflow:From /usr/local/lib/python3.7/dist-packages/tensorflow/python/compat/v2_compat.py:107: disable_resource_variables (from tensorflow.python.ops.variable_scope) is deprecated and will be removed in a future version.\n",
      "Instructions for updating:\n",
      "non-resource variables are not supported in the long term\n",
      "WARNING:tensorflow:From /usr/local/lib/python3.7/dist-packages/deepxde/nn/initializers.py:116: The name tf.keras.initializers.he_normal is deprecated. Please use tf.compat.v1.keras.initializers.he_normal instead.\n",
      "\n"
     ]
    }
   ],
   "source": [
    "from __future__ import absolute_import\n",
    "from __future__ import division\n",
    "from __future__ import print_function\n",
    "\n",
    "import io\n",
    "import re\n",
    "\n",
    "import matplotlib.pyplot as plt\n",
    "import numpy as np\n",
    "import requests\n",
    "\n",
    "import deepxde as dde\n",
    "from deepxde.backend import tf\n",
    "\n",
    "\n",
    "# get training data\n",
    "def gen_traindata():\n",
    "    response = requests.get('https://github.com/lululxvi/deepxde/raw/master/examples/dataset/Lorenz.npz')\n",
    "    response.raise_for_status()\n",
    "    data = np.load(io.BytesIO(response.content))\n",
    "    return data[\"t\"], data[\"y\"]\n",
    "\n",
    "# parameters to be identified\n",
    "C1 = tf.Variable(1.0)\n",
    "C2 = tf.Variable(1.0)\n",
    "C3 = tf.Variable(1.0)\n",
    "\n",
    "# true values, see p. 15 in https://arxiv.org/abs/1907.04502\n",
    "C1true = 10\n",
    "C2true = 15\n",
    "C3true = 8/3\n",
    "\n",
    "# define system ODEs\n",
    "def Lorenz_system(x, y):\n",
    "    \"\"\"Lorenz system.\n",
    "    dy1/dx = 10 * (y2 - y1)\n",
    "    dy2/dx = y1 * (28 - y3) - y2\n",
    "    dy3/dx = y1 * y2 - 8/3 * y3\n",
    "    \"\"\"\n",
    "    y1, y2, y3 = y[:, 0:1], y[:, 1:2], y[:, 2:]\n",
    "    dy1_x = dde.grad.jacobian(y, x, i=0)\n",
    "    dy2_x = dde.grad.jacobian(y, x, i=1)\n",
    "    dy3_x = dde.grad.jacobian(y, x, i=2)\n",
    "    return [\n",
    "        dy1_x - C1 * (y2 - y1),\n",
    "        dy2_x - y1 * (C2 - y3) + y2,\n",
    "        dy3_x - y1 * y2 + C3 * y3,\n",
    "    ]\n",
    "\n",
    "def boundary(_, on_initial):\n",
    "    return on_initial"
   ]
  },
  {
   "cell_type": "markdown",
   "metadata": {
    "id": "c8yTpgeIgpEa"
   },
   "source": [
    "Define data and BCs"
   ]
  },
  {
   "cell_type": "code",
   "execution_count": 3,
   "metadata": {
    "colab": {
     "base_uri": "https://localhost:8080/",
     "height": 330
    },
    "executionInfo": {
     "elapsed": 965,
     "status": "ok",
     "timestamp": 1646159635147,
     "user": {
      "displayName": "Jostein Barry-Straume",
      "photoUrl": "https://lh3.googleusercontent.com/a/default-user=s64",
      "userId": "14559924148079490780"
     },
     "user_tz": 480
    },
    "id": "V5GUlQ_4goNr",
    "outputId": "cff58e32-b0b6-4c26-ac8a-1869ebe46e74"
   },
   "outputs": [
    {
     "name": "stderr",
     "output_type": "stream",
     "text": [
      "/usr/local/lib/python3.7/dist-packages/skopt/sampler/sobol.py:250: UserWarning: The balance properties of Sobol' points require n to be a power of 2. 0 points have been previously generated, then: n=0+402=402. \n",
      "  total_n_samples))\n"
     ]
    },
    {
     "data": {
      "image/png": "[encoded data removed]",
      "text/plain": [
       "<Figure size 432x288 with 1 Axes>"
      ]
     },
     "metadata": {
      "needs_background": "light"
     },
     "output_type": "display_data"
    }
   ],
   "source": [
    "# define time domain\n",
    "geom = dde.geometry.TimeDomain(0, 3)\n",
    "\n",
    "# Initial conditions\n",
    "ic1 = dde.IC(geom, lambda X: -8, boundary, component=0)\n",
    "ic2 = dde.IC(geom, lambda X: 7, boundary, component=1)\n",
    "ic3 = dde.IC(geom, lambda X: 27, boundary, component=2)\n",
    "\n",
    "# Get the training data\n",
    "observe_t, ob_y = gen_traindata()\n",
    "observe_y0 = dde.PointSetBC(observe_t, ob_y[:, 0:1], component=0)\n",
    "observe_y1 = dde.PointSetBC(observe_t, ob_y[:, 1:2], component=1)\n",
    "observe_y2 = dde.PointSetBC(observe_t, ob_y[:, 2:3], component=2)\n",
    "\n",
    "# define data object\n",
    "data = dde.data.PDE(\n",
    "    geom,\n",
    "    Lorenz_system,\n",
    "    [ic1, ic2, ic3, observe_y0, observe_y1, observe_y2],\n",
    "    num_domain=400,\n",
    "    num_boundary=2,\n",
    "    anchors=observe_t,\n",
    ")\n",
    "\n",
    "plt.plot(observe_t, ob_y)\n",
    "plt.xlabel('Time')\n",
    "plt.legend(['x','y','z'])\n",
    "plt.title('Training data')\n",
    "plt.show()\n"
   ]
  },
  {
   "cell_type": "code",
   "execution_count": 3,
   "metadata": {
    "executionInfo": {
     "elapsed": 236,
     "status": "ok",
     "timestamp": 1646159636714,
     "user": {
      "displayName": "Jostein Barry-Straume",
      "photoUrl": "https://lh3.googleusercontent.com/a/default-user=s64",
      "userId": "14559924148079490780"
     },
     "user_tz": 480
    },
    "id": "pekGqYC7OqZW"
   },
   "outputs": [],
   "source": []
  },
  {
   "cell_type": "markdown",
   "metadata": {
    "id": "aaATPpFwAxH3"
   },
   "source": [
    "# ResNet Network"
   ]
  },
  {
   "cell_type": "code",
   "execution_count": 4,
   "metadata": {
    "colab": {
     "base_uri": "https://localhost:8080/"
    },
    "executionInfo": {
     "elapsed": 6782,
     "status": "ok",
     "timestamp": 1646159644483,
     "user": {
      "displayName": "Jostein Barry-Straume",
      "photoUrl": "https://lh3.googleusercontent.com/a/default-user=s64",
      "userId": "14559924148079490780"
     },
     "user_tz": 480
    },
    "id": "7TiFaMS2Ay1y",
    "outputId": "0913ff44-1bfd-4341-8793-fcc917eae4e7"
   },
   "outputs": [
    {
     "name": "stdout",
     "output_type": "stream",
     "text": [
      "Compiling model...\n",
      "Building residual neural network...\n"
     ]
    },
    {
     "name": "stderr",
     "output_type": "stream",
     "text": [
      "/usr/local/lib/python3.7/dist-packages/deepxde/nn/tensorflow_compat_v1/resnet.py:70: UserWarning: `tf.layers.dense` is deprecated and will be removed in a future version. Please use `tf.keras.layers.Dense` instead.\n",
      "  kernel_regularizer=self.regularizer,\n",
      "/usr/local/lib/python3.7/dist-packages/keras/legacy_tf_layers/core.py:261: UserWarning: `layer.apply` is deprecated and will be removed in a future version. Please use `layer.__call__` method instead.\n",
      "  return layer.apply(inputs)\n"
     ]
    },
    {
     "name": "stdout",
     "output_type": "stream",
     "text": [
      "'build' took 0.252632 s\n",
      "\n",
      "'compile' took 6.663527 s\n",
      "\n"
     ]
    }
   ],
   "source": [
    "# define FNN architecture and compile\n",
    "resnet = dde.maps.ResNet(input_size=1,\n",
    "                      output_size=3,\n",
    "                      activation=\"tanh\",\n",
    "                      kernel_initializer=\"Glorot uniform\",\n",
    "                      num_blocks=3,\n",
    "                      num_neurons=64\n",
    "                      )\n",
    "res_model = dde.Model(data, resnet)\n",
    "res_model.compile(\"adam\", lr=0.001)"
   ]
  },
  {
   "cell_type": "code",
   "execution_count": 5,
   "metadata": {
    "colab": {
     "base_uri": "https://localhost:8080/",
     "height": 710
    },
    "executionInfo": {
     "elapsed": 570,
     "status": "error",
     "timestamp": 1646159646229,
     "user": {
      "displayName": "Jostein Barry-Straume",
      "photoUrl": "https://lh3.googleusercontent.com/a/default-user=s64",
      "userId": "14559924148079490780"
     },
     "user_tz": 480
    },
    "id": "e7dFRZWCWwfp",
    "outputId": "5ebb3a18-9df0-4d76-baf0-3e2a82ea9c55"
   },
   "outputs": [
    {
     "ename": "FailedPreconditionError",
     "evalue": "ignored",
     "output_type": "error",
     "traceback": [
      "\u001b[0;31m---------------------------------------------------------------------------\u001b[0m",
      "\u001b[0;31mFailedPreconditionError\u001b[0m                   Traceback (most recent call last)",
      "\u001b[0;32m/usr/local/lib/python3.7/dist-packages/tensorflow/python/client/session.py\u001b[0m in \u001b[0;36m_do_call\u001b[0;34m(self, fn, *args)\u001b[0m\n\u001b[1;32m   1376\u001b[0m     \u001b[0;32mtry\u001b[0m\u001b[0;34m:\u001b[0m\u001b[0;34m\u001b[0m\u001b[0;34m\u001b[0m\u001b[0m\n\u001b[0;32m-> 1377\u001b[0;31m       \u001b[0;32mreturn\u001b[0m \u001b[0mfn\u001b[0m\u001b[0;34m(\u001b[0m\u001b[0;34m*\u001b[0m\u001b[0margs\u001b[0m\u001b[0;34m)\u001b[0m\u001b[0;34m\u001b[0m\u001b[0;34m\u001b[0m\u001b[0m\n\u001b[0m\u001b[1;32m   1378\u001b[0m     \u001b[0;32mexcept\u001b[0m \u001b[0merrors\u001b[0m\u001b[0;34m.\u001b[0m\u001b[0mOpError\u001b[0m \u001b[0;32mas\u001b[0m \u001b[0me\u001b[0m\u001b[0;34m:\u001b[0m\u001b[0;34m\u001b[0m\u001b[0;34m\u001b[0m\u001b[0m\n",
      "\u001b[0;32m/usr/local/lib/python3.7/dist-packages/tensorflow/python/client/session.py\u001b[0m in \u001b[0;36m_run_fn\u001b[0;34m(feed_dict, fetch_list, target_list, options, run_metadata)\u001b[0m\n\u001b[1;32m   1360\u001b[0m       return self._call_tf_sessionrun(options, feed_dict, fetch_list,\n\u001b[0;32m-> 1361\u001b[0;31m                                       target_list, run_metadata)\n\u001b[0m\u001b[1;32m   1362\u001b[0m \u001b[0;34m\u001b[0m\u001b[0m\n",
      "\u001b[0;32m/usr/local/lib/python3.7/dist-packages/tensorflow/python/client/session.py\u001b[0m in \u001b[0;36m_call_tf_sessionrun\u001b[0;34m(self, options, feed_dict, fetch_list, target_list, run_metadata)\u001b[0m\n\u001b[1;32m   1454\u001b[0m                                             \u001b[0mfetch_list\u001b[0m\u001b[0;34m,\u001b[0m \u001b[0mtarget_list\u001b[0m\u001b[0;34m,\u001b[0m\u001b[0;34m\u001b[0m\u001b[0;34m\u001b[0m\u001b[0m\n\u001b[0;32m-> 1455\u001b[0;31m                                             run_metadata)\n\u001b[0m\u001b[1;32m   1456\u001b[0m \u001b[0;34m\u001b[0m\u001b[0m\n",
      "\u001b[0;31mFailedPreconditionError\u001b[0m: 2 root error(s) found.\n  (0) FAILED_PRECONDITION: Attempting to use uninitialized value dense_6/bias\n\t [[{{node dense_6/bias/_30}}]]\n\t [[dense/kernel/_9]]\n  (1) FAILED_PRECONDITION: Attempting to use uninitialized value dense_6/bias\n\t [[{{node dense_6/bias/_30}}]]\n0 successful operations.\n0 derived errors ignored.",
      "\nDuring handling of the above exception, another exception occurred:\n",
      "\u001b[0;31mFailedPreconditionError\u001b[0m                   Traceback (most recent call last)",
      "\u001b[0;32m<ipython-input-5-c88d32da7d2b>\u001b[0m in \u001b[0;36m<module>\u001b[0;34m()\u001b[0m\n\u001b[0;32m----> 1\u001b[0;31m \u001b[0mres_model\u001b[0m\u001b[0;34m.\u001b[0m\u001b[0mprint_model\u001b[0m\u001b[0;34m(\u001b[0m\u001b[0;34m)\u001b[0m\u001b[0;34m\u001b[0m\u001b[0;34m\u001b[0m\u001b[0m\n\u001b[0m",
      "\u001b[0;32m/usr/local/lib/python3.7/dist-packages/deepxde/model.py\u001b[0m in \u001b[0;36mprint_model\u001b[0;34m(self)\u001b[0m\n\u001b[1;32m    757\u001b[0m             )\n\u001b[1;32m    758\u001b[0m         \u001b[0mvariables_names\u001b[0m \u001b[0;34m=\u001b[0m \u001b[0;34m[\u001b[0m\u001b[0mv\u001b[0m\u001b[0;34m.\u001b[0m\u001b[0mname\u001b[0m \u001b[0;32mfor\u001b[0m \u001b[0mv\u001b[0m \u001b[0;32min\u001b[0m \u001b[0mtf\u001b[0m\u001b[0;34m.\u001b[0m\u001b[0mtrainable_variables\u001b[0m\u001b[0;34m(\u001b[0m\u001b[0;34m)\u001b[0m\u001b[0;34m]\u001b[0m\u001b[0;34m\u001b[0m\u001b[0;34m\u001b[0m\u001b[0m\n\u001b[0;32m--> 759\u001b[0;31m         \u001b[0mvalues\u001b[0m \u001b[0;34m=\u001b[0m \u001b[0mself\u001b[0m\u001b[0;34m.\u001b[0m\u001b[0msess\u001b[0m\u001b[0;34m.\u001b[0m\u001b[0mrun\u001b[0m\u001b[0;34m(\u001b[0m\u001b[0mvariables_names\u001b[0m\u001b[0;34m)\u001b[0m\u001b[0;34m\u001b[0m\u001b[0;34m\u001b[0m\u001b[0m\n\u001b[0m\u001b[1;32m    760\u001b[0m         \u001b[0;32mfor\u001b[0m \u001b[0mk\u001b[0m\u001b[0;34m,\u001b[0m \u001b[0mv\u001b[0m \u001b[0;32min\u001b[0m \u001b[0mzip\u001b[0m\u001b[0;34m(\u001b[0m\u001b[0mvariables_names\u001b[0m\u001b[0;34m,\u001b[0m \u001b[0mvalues\u001b[0m\u001b[0;34m)\u001b[0m\u001b[0;34m:\u001b[0m\u001b[0;34m\u001b[0m\u001b[0;34m\u001b[0m\u001b[0m\n\u001b[1;32m    761\u001b[0m             \u001b[0mprint\u001b[0m\u001b[0;34m(\u001b[0m\u001b[0;34m\"Variable: {}, Shape: {}\"\u001b[0m\u001b[0;34m.\u001b[0m\u001b[0mformat\u001b[0m\u001b[0;34m(\u001b[0m\u001b[0mk\u001b[0m\u001b[0;34m,\u001b[0m \u001b[0mv\u001b[0m\u001b[0;34m.\u001b[0m\u001b[0mshape\u001b[0m\u001b[0;34m)\u001b[0m\u001b[0;34m)\u001b[0m\u001b[0;34m\u001b[0m\u001b[0;34m\u001b[0m\u001b[0m\n",
      "\u001b[0;32m/usr/local/lib/python3.7/dist-packages/tensorflow/python/client/session.py\u001b[0m in \u001b[0;36mrun\u001b[0;34m(self, fetches, feed_dict, options, run_metadata)\u001b[0m\n\u001b[1;32m    966\u001b[0m     \u001b[0;32mtry\u001b[0m\u001b[0;34m:\u001b[0m\u001b[0;34m\u001b[0m\u001b[0;34m\u001b[0m\u001b[0m\n\u001b[1;32m    967\u001b[0m       result = self._run(None, fetches, feed_dict, options_ptr,\n\u001b[0;32m--> 968\u001b[0;31m                          run_metadata_ptr)\n\u001b[0m\u001b[1;32m    969\u001b[0m       \u001b[0;32mif\u001b[0m \u001b[0mrun_metadata\u001b[0m\u001b[0;34m:\u001b[0m\u001b[0;34m\u001b[0m\u001b[0;34m\u001b[0m\u001b[0m\n\u001b[1;32m    970\u001b[0m         \u001b[0mproto_data\u001b[0m \u001b[0;34m=\u001b[0m \u001b[0mtf_session\u001b[0m\u001b[0;34m.\u001b[0m\u001b[0mTF_GetBuffer\u001b[0m\u001b[0;34m(\u001b[0m\u001b[0mrun_metadata_ptr\u001b[0m\u001b[0;34m)\u001b[0m\u001b[0;34m\u001b[0m\u001b[0;34m\u001b[0m\u001b[0m\n",
      "\u001b[0;32m/usr/local/lib/python3.7/dist-packages/tensorflow/python/client/session.py\u001b[0m in \u001b[0;36m_run\u001b[0;34m(self, handle, fetches, feed_dict, options, run_metadata)\u001b[0m\n\u001b[1;32m   1189\u001b[0m     \u001b[0;32mif\u001b[0m \u001b[0mfinal_fetches\u001b[0m \u001b[0;32mor\u001b[0m \u001b[0mfinal_targets\u001b[0m \u001b[0;32mor\u001b[0m \u001b[0;34m(\u001b[0m\u001b[0mhandle\u001b[0m \u001b[0;32mand\u001b[0m \u001b[0mfeed_dict_tensor\u001b[0m\u001b[0;34m)\u001b[0m\u001b[0;34m:\u001b[0m\u001b[0;34m\u001b[0m\u001b[0;34m\u001b[0m\u001b[0m\n\u001b[1;32m   1190\u001b[0m       results = self._do_run(handle, final_targets, final_fetches,\n\u001b[0;32m-> 1191\u001b[0;31m                              feed_dict_tensor, options, run_metadata)\n\u001b[0m\u001b[1;32m   1192\u001b[0m     \u001b[0;32melse\u001b[0m\u001b[0;34m:\u001b[0m\u001b[0;34m\u001b[0m\u001b[0;34m\u001b[0m\u001b[0m\n\u001b[1;32m   1193\u001b[0m       \u001b[0mresults\u001b[0m \u001b[0;34m=\u001b[0m \u001b[0;34m[\u001b[0m\u001b[0;34m]\u001b[0m\u001b[0;34m\u001b[0m\u001b[0;34m\u001b[0m\u001b[0m\n",
      "\u001b[0;32m/usr/local/lib/python3.7/dist-packages/tensorflow/python/client/session.py\u001b[0m in \u001b[0;36m_do_run\u001b[0;34m(self, handle, target_list, fetch_list, feed_dict, options, run_metadata)\u001b[0m\n\u001b[1;32m   1369\u001b[0m     \u001b[0;32mif\u001b[0m \u001b[0mhandle\u001b[0m \u001b[0;32mis\u001b[0m \u001b[0;32mNone\u001b[0m\u001b[0;34m:\u001b[0m\u001b[0;34m\u001b[0m\u001b[0;34m\u001b[0m\u001b[0m\n\u001b[1;32m   1370\u001b[0m       return self._do_call(_run_fn, feeds, fetches, targets, options,\n\u001b[0;32m-> 1371\u001b[0;31m                            run_metadata)\n\u001b[0m\u001b[1;32m   1372\u001b[0m     \u001b[0;32melse\u001b[0m\u001b[0;34m:\u001b[0m\u001b[0;34m\u001b[0m\u001b[0;34m\u001b[0m\u001b[0m\n\u001b[1;32m   1373\u001b[0m       \u001b[0;32mreturn\u001b[0m \u001b[0mself\u001b[0m\u001b[0;34m.\u001b[0m\u001b[0m_do_call\u001b[0m\u001b[0;34m(\u001b[0m\u001b[0m_prun_fn\u001b[0m\u001b[0;34m,\u001b[0m \u001b[0mhandle\u001b[0m\u001b[0;34m,\u001b[0m \u001b[0mfeeds\u001b[0m\u001b[0;34m,\u001b[0m \u001b[0mfetches\u001b[0m\u001b[0;34m)\u001b[0m\u001b[0;34m\u001b[0m\u001b[0;34m\u001b[0m\u001b[0m\n",
      "\u001b[0;32m/usr/local/lib/python3.7/dist-packages/tensorflow/python/client/session.py\u001b[0m in \u001b[0;36m_do_call\u001b[0;34m(self, fn, *args)\u001b[0m\n\u001b[1;32m   1394\u001b[0m                     \u001b[0;34m'\\nsession_config.graph_options.rewrite_options.'\u001b[0m\u001b[0;34m\u001b[0m\u001b[0;34m\u001b[0m\u001b[0m\n\u001b[1;32m   1395\u001b[0m                     'disable_meta_optimizer = True')\n\u001b[0;32m-> 1396\u001b[0;31m       \u001b[0;32mraise\u001b[0m \u001b[0mtype\u001b[0m\u001b[0;34m(\u001b[0m\u001b[0me\u001b[0m\u001b[0;34m)\u001b[0m\u001b[0;34m(\u001b[0m\u001b[0mnode_def\u001b[0m\u001b[0;34m,\u001b[0m \u001b[0mop\u001b[0m\u001b[0;34m,\u001b[0m \u001b[0mmessage\u001b[0m\u001b[0;34m)\u001b[0m  \u001b[0;31m# pylint: disable=no-value-for-parameter\u001b[0m\u001b[0;34m\u001b[0m\u001b[0;34m\u001b[0m\u001b[0m\n\u001b[0m\u001b[1;32m   1397\u001b[0m \u001b[0;34m\u001b[0m\u001b[0m\n\u001b[1;32m   1398\u001b[0m   \u001b[0;32mdef\u001b[0m \u001b[0m_extend_graph\u001b[0m\u001b[0;34m(\u001b[0m\u001b[0mself\u001b[0m\u001b[0;34m)\u001b[0m\u001b[0;34m:\u001b[0m\u001b[0;34m\u001b[0m\u001b[0;34m\u001b[0m\u001b[0m\n",
      "\u001b[0;31mFailedPreconditionError\u001b[0m: Graph execution error:\n\n2 root error(s) found.\n  (0) FAILED_PRECONDITION: Attempting to use uninitialized value dense_6/bias\n\t [[{{node dense_6/bias/_30}}]]\n\t [[dense/kernel/_9]]\n  (1) FAILED_PRECONDITION: Attempting to use uninitialized value dense_6/bias\n\t [[{{node dense_6/bias/_30}}]]\n0 successful operations.\n0 derived errors ignored."
     ]
    }
   ],
   "source": [
    "res_model.print_model()"
   ]
  },
  {
   "cell_type": "code",
   "execution_count": 6,
   "metadata": {
    "colab": {
     "base_uri": "https://localhost:8080/"
    },
    "executionInfo": {
     "elapsed": 394698,
     "status": "ok",
     "timestamp": 1646160052008,
     "user": {
      "displayName": "Jostein Barry-Straume",
      "photoUrl": "https://lh3.googleusercontent.com/a/default-user=s64",
      "userId": "14559924148079490780"
     },
     "user_tz": 480
    },
    "id": "BkSd6C4ixy_k",
    "outputId": "30958e8f-04a0-4898-95fc-47c68c0078b3"
   },
   "outputs": [
    {
     "name": "stdout",
     "output_type": "stream",
     "text": [
      "Initializing variables...\n",
      "Training model...\n",
      "\n",
      "Step      Train loss                                                                                    Test loss                                                                                     Test metric\n",
      "0         [1.47e-01, 3.34e-01, 8.77e-01, 6.40e+01, 4.90e+01, 7.29e+02, 3.27e+01, 3.51e+01, 2.42e+02]    [1.47e-01, 3.34e-01, 8.77e-01, 6.40e+01, 4.90e+01, 7.29e+02, 3.27e+01, 3.51e+01, 2.42e+02]    []  \n",
      "1000      [9.39e+00, 1.92e+00, 2.50e+00, 1.48e+01, 3.77e-01, 7.99e-01, 3.15e+01, 1.80e+01, 6.32e+00]    [9.39e+00, 1.92e+00, 2.50e+00, 1.48e+01, 3.77e-01, 7.99e-01, 3.15e+01, 1.80e+01, 6.32e+00]    []  \n",
      "2000      [8.84e+00, 1.75e+00, 1.17e+00, 1.33e+01, 3.94e-01, 1.48e+00, 3.24e+01, 1.93e+01, 3.16e+00]    [8.84e+00, 1.75e+00, 1.17e+00, 1.33e+01, 3.94e-01, 1.48e+00, 3.24e+01, 1.93e+01, 3.16e+00]    []  \n",
      "3000      [8.42e+00, 1.92e+00, 9.57e-01, 1.28e+01, 3.12e-01, 1.57e+00, 3.26e+01, 1.91e+01, 2.72e+00]    [8.42e+00, 1.92e+00, 9.57e-01, 1.28e+01, 3.12e-01, 1.57e+00, 3.26e+01, 1.91e+01, 2.72e+00]    []  \n",
      "4000      [8.33e+00, 2.10e+00, 6.92e-01, 1.08e+01, 3.93e-01, 1.36e+00, 3.25e+01, 1.99e+01, 2.24e+00]    [8.33e+00, 2.10e+00, 6.92e-01, 1.08e+01, 3.93e-01, 1.36e+00, 3.25e+01, 1.99e+01, 2.24e+00]    []  \n",
      "5000      [8.06e+00, 2.23e+00, 5.75e-01, 9.42e+00, 3.74e-01, 1.26e+00, 3.24e+01, 2.00e+01, 1.95e+00]    [8.06e+00, 2.23e+00, 5.75e-01, 9.42e+00, 3.74e-01, 1.26e+00, 3.24e+01, 2.00e+01, 1.95e+00]    []  \n",
      "6000      [7.55e+00, 2.73e+00, 4.86e-01, 8.40e+00, 2.08e-01, 1.24e+00, 3.22e+01, 2.01e+01, 1.78e+00]    [7.55e+00, 2.73e+00, 4.86e-01, 8.40e+00, 2.08e-01, 1.24e+00, 3.22e+01, 2.01e+01, 1.78e+00]    []  \n",
      "7000      [7.11e+00, 2.78e+00, 3.43e-01, 7.41e+00, 3.21e-01, 1.04e+00, 3.15e+01, 1.98e+01, 1.69e+00]    [7.11e+00, 2.78e+00, 3.43e-01, 7.41e+00, 3.21e-01, 1.04e+00, 3.15e+01, 1.98e+01, 1.69e+00]    []  \n",
      "8000      [5.34e+00, 4.51e+00, 2.67e-01, 5.88e+00, 3.38e-01, 7.56e-01, 2.72e+01, 1.98e+01, 4.27e+00]    [5.34e+00, 4.51e+00, 2.67e-01, 5.88e+00, 3.38e-01, 7.56e-01, 2.72e+01, 1.98e+01, 4.27e+00]    []  \n",
      "9000      [9.50e-01, 1.63e+00, 4.12e-01, 2.36e+00, 2.84e-01, 4.31e-02, 6.33e+00, 5.92e+00, 1.15e+01]    [9.50e-01, 1.63e+00, 4.12e-01, 2.36e+00, 2.84e-01, 4.31e-02, 6.33e+00, 5.92e+00, 1.15e+01]    []  \n",
      "10000     [4.68e-01, 8.59e-01, 2.95e-01, 1.24e+00, 1.24e-01, 8.50e-04, 3.08e+00, 2.86e+00, 7.92e+00]    [4.68e-01, 8.59e-01, 2.95e-01, 1.24e+00, 1.24e-01, 8.50e-04, 3.08e+00, 2.86e+00, 7.92e+00]    []  \n",
      "11000     [3.06e-01, 5.59e-01, 2.47e-01, 7.19e-01, 6.18e-02, 1.37e-02, 1.86e+00, 1.77e+00, 5.13e+00]    [3.06e-01, 5.59e-01, 2.47e-01, 7.19e-01, 6.18e-02, 1.37e-02, 1.86e+00, 1.77e+00, 5.13e+00]    []  \n",
      "12000     [1.96e-01, 4.38e-01, 2.35e-01, 4.50e-01, 3.41e-02, 2.88e-02, 1.23e+00, 1.12e+00, 2.95e+00]    [1.96e-01, 4.38e-01, 2.35e-01, 4.50e-01, 3.41e-02, 2.88e-02, 1.23e+00, 1.12e+00, 2.95e+00]    []  \n",
      "13000     [2.88e-01, 3.44e-01, 1.99e-01, 3.55e-01, 3.62e-03, 8.92e-03, 7.29e-01, 6.39e-01, 1.54e+00]    [2.88e-01, 3.44e-01, 1.99e-01, 3.55e-01, 3.62e-03, 8.92e-03, 7.29e-01, 6.39e-01, 1.54e+00]    []  \n",
      "14000     [8.92e-02, 2.30e-01, 1.39e-01, 1.57e-01, 4.41e-03, 3.06e-02, 4.87e-01, 4.00e-01, 7.18e-01]    [8.92e-02, 2.30e-01, 1.39e-01, 1.57e-01, 4.41e-03, 3.06e-02, 4.87e-01, 4.00e-01, 7.18e-01]    []  \n",
      "15000     [4.95e-02, 1.79e-01, 2.13e-01, 5.78e-02, 6.46e-03, 4.64e-02, 3.22e-01, 2.46e-01, 3.39e-01]    [4.95e-02, 1.79e-01, 2.13e-01, 5.78e-02, 6.46e-03, 4.64e-02, 3.22e-01, 2.46e-01, 3.39e-01]    []  \n",
      "16000     [3.33e-02, 1.02e-01, 7.01e-02, 2.79e-02, 2.38e-03, 2.92e-02, 1.66e-01, 1.24e-01, 1.58e-01]    [3.33e-02, 1.02e-01, 7.01e-02, 2.79e-02, 2.38e-03, 2.92e-02, 1.66e-01, 1.24e-01, 1.58e-01]    []  \n",
      "17000     [1.98e-02, 4.74e-02, 2.55e-02, 2.12e-02, 3.07e-05, 8.62e-03, 8.22e-02, 6.30e-02, 7.59e-02]    [1.98e-02, 4.74e-02, 2.55e-02, 2.12e-02, 3.07e-05, 8.62e-03, 8.22e-02, 6.30e-02, 7.59e-02]    []  \n",
      "18000     [5.96e-02, 4.93e-02, 1.00e-01, 1.61e-03, 1.25e-03, 1.59e-02, 5.77e-02, 4.26e-02, 5.08e-02]    [5.96e-02, 4.93e-02, 1.00e-01, 1.61e-03, 1.25e-03, 1.59e-02, 5.77e-02, 4.26e-02, 5.08e-02]    []  \n",
      "19000     [2.06e-01, 5.95e-02, 1.08e-01, 1.54e-02, 5.06e-04, 2.36e-05, 1.19e-02, 1.00e-02, 1.83e-02]    [2.06e-01, 5.95e-02, 1.08e-01, 1.54e-02, 5.06e-04, 2.36e-05, 1.19e-02, 1.00e-02, 1.83e-02]    []  \n",
      "20000     [2.46e-03, 6.20e-03, 3.43e-03, 1.21e-03, 2.16e-05, 1.62e-03, 1.01e-02, 7.55e-03, 8.85e-03]    [2.46e-03, 6.20e-03, 3.43e-03, 1.21e-03, 2.16e-05, 1.62e-03, 1.01e-02, 7.55e-03, 8.85e-03]    []  \n",
      "21000     [1.62e-03, 3.42e-03, 4.10e-03, 8.27e-04, 9.02e-07, 4.74e-04, 4.83e-03, 3.72e-03, 4.13e-03]    [1.62e-03, 3.42e-03, 4.10e-03, 8.27e-04, 9.02e-07, 4.74e-04, 4.83e-03, 3.72e-03, 4.13e-03]    []  \n",
      "22000     [1.29e-02, 1.67e-02, 5.66e-02, 9.98e-03, 1.76e-03, 2.69e-03, 2.10e-03, 2.32e-03, 2.92e-03]    [1.29e-02, 1.67e-02, 5.66e-02, 9.98e-03, 1.76e-03, 2.69e-03, 2.10e-03, 2.32e-03, 2.92e-03]    []  \n",
      "23000     [5.84e-02, 9.97e-03, 2.78e-02, 2.40e-04, 2.99e-05, 6.35e-05, 5.25e-04, 5.30e-04, 1.46e-03]    [5.84e-02, 9.97e-03, 2.78e-02, 2.40e-04, 2.99e-05, 6.35e-05, 5.25e-04, 5.30e-04, 1.46e-03]    []  \n",
      "24000     [1.30e-03, 1.16e-03, 7.45e-04, 4.92e-05, 1.00e-05, 6.98e-05, 4.89e-04, 3.87e-04, 4.68e-04]    [1.30e-03, 1.16e-03, 7.45e-04, 4.92e-05, 1.00e-05, 6.98e-05, 4.89e-04, 3.87e-04, 4.68e-04]    []  \n",
      "25000     [2.97e-02, 2.81e-02, 1.06e-01, 1.20e-02, 3.39e-03, 7.11e-03, 1.67e-03, 1.44e-03, 3.23e-03]    [2.97e-02, 2.81e-02, 1.06e-01, 1.20e-02, 3.39e-03, 7.11e-03, 1.67e-03, 1.44e-03, 3.23e-03]    []  \n",
      "26000     [6.09e-04, 9.32e-04, 7.22e-04, 4.50e-05, 2.99e-07, 1.09e-06, 1.46e-04, 1.78e-04, 1.68e-04]    [6.09e-04, 9.32e-04, 7.22e-04, 4.50e-05, 2.99e-07, 1.09e-06, 1.46e-04, 1.78e-04, 1.68e-04]    []  \n",
      "27000     [7.99e-04, 6.50e-04, 6.13e-04, 1.64e-05, 2.71e-07, 1.80e-06, 1.37e-04, 1.24e-04, 1.68e-04]    [7.99e-04, 6.50e-04, 6.13e-04, 1.64e-05, 2.71e-07, 1.80e-06, 1.37e-04, 1.24e-04, 1.68e-04]    []  \n",
      "28000     [1.88e-03, 5.22e-03, 3.19e-03, 2.36e-04, 3.43e-05, 1.11e-04, 5.96e-05, 1.01e-04, 2.39e-04]    [1.88e-03, 5.22e-03, 3.19e-03, 2.36e-04, 3.43e-05, 1.11e-04, 5.96e-05, 1.01e-04, 2.39e-04]    []  \n",
      "29000     [6.62e-02, 4.95e-02, 5.36e-02, 1.03e-02, 2.80e-03, 7.45e-03, 6.20e-03, 7.94e-03, 1.66e-02]    [6.62e-02, 4.95e-02, 5.36e-02, 1.03e-02, 2.80e-03, 7.45e-03, 6.20e-03, 7.94e-03, 1.66e-02]    []  \n",
      "30000     [3.98e-02, 3.37e-02, 7.62e-02, 9.96e-03, 4.02e-03, 8.13e-03, 1.67e-03, 1.24e-03, 3.11e-03]    [3.98e-02, 3.37e-02, 7.62e-02, 9.96e-03, 4.02e-03, 8.13e-03, 1.67e-03, 1.24e-03, 3.11e-03]    []  \n",
      "31000     [2.49e-02, 1.86e-02, 4.32e-02, 6.18e-03, 2.51e-03, 5.00e-03, 1.23e-03, 8.19e-04, 2.15e-03]    [2.49e-02, 1.86e-02, 4.32e-02, 6.18e-03, 2.51e-03, 5.00e-03, 1.23e-03, 8.19e-04, 2.15e-03]    []  \n",
      "32000     [1.52e-02, 5.88e-03, 2.16e-02, 1.96e-04, 1.06e-04, 2.10e-04, 4.26e-04, 3.38e-04, 9.25e-04]    [1.52e-02, 5.88e-03, 2.16e-02, 1.96e-04, 1.06e-04, 2.10e-04, 4.26e-04, 3.38e-04, 9.25e-04]    []  \n",
      "33000     [1.15e-02, 4.60e-03, 9.63e-03, 2.62e-06, 1.50e-05, 2.79e-07, 1.17e-04, 1.69e-04, 4.01e-04]    [1.15e-02, 4.60e-03, 9.63e-03, 2.62e-06, 1.50e-05, 2.79e-07, 1.17e-04, 1.69e-04, 4.01e-04]    []  \n",
      "34000     [3.80e-04, 4.08e-04, 6.29e-04, 1.36e-06, 7.72e-06, 5.01e-06, 2.34e-05, 3.45e-05, 4.17e-05]    [3.80e-04, 4.08e-04, 6.29e-04, 1.36e-06, 7.72e-06, 5.01e-06, 2.34e-05, 3.45e-05, 4.17e-05]    []  \n",
      "35000     [2.33e-03, 1.43e-03, 1.60e-03, 5.46e-04, 1.36e-04, 3.68e-04, 1.21e-04, 1.76e-04, 2.69e-04]    [2.33e-03, 1.43e-03, 1.60e-03, 5.46e-04, 1.36e-04, 3.68e-04, 1.21e-04, 1.76e-04, 2.69e-04]    []  \n",
      "36000     [1.83e-03, 1.34e-03, 3.66e-03, 1.55e-04, 1.15e-04, 1.27e-04, 7.61e-05, 1.32e-04, 1.76e-04]    [1.83e-03, 1.34e-03, 3.66e-03, 1.55e-04, 1.15e-04, 1.27e-04, 7.61e-05, 1.32e-04, 1.76e-04]    []  \n",
      "37000     [7.53e-03, 3.19e-03, 5.67e-03, 6.66e-05, 8.54e-05, 7.27e-05, 5.35e-05, 1.17e-04, 2.01e-04]    [7.53e-03, 3.19e-03, 5.67e-03, 6.66e-05, 8.54e-05, 7.27e-05, 5.35e-05, 1.17e-04, 2.01e-04]    []  \n",
      "38000     [2.08e-03, 5.49e-04, 1.40e-03, 5.11e-08, 1.03e-05, 3.96e-06, 4.35e-05, 3.34e-05, 8.38e-05]    [2.08e-03, 5.49e-04, 1.40e-03, 5.11e-08, 1.03e-05, 3.96e-06, 4.35e-05, 3.34e-05, 8.38e-05]    []  \n",
      "39000     [3.12e-02, 4.10e-03, 1.35e-02, 2.03e-03, 8.38e-04, 1.48e-03, 3.56e-04, 5.13e-04, 7.40e-04]    [3.12e-02, 4.10e-03, 1.35e-02, 2.03e-03, 8.38e-04, 1.48e-03, 3.56e-04, 5.13e-04, 7.40e-04]    []  \n",
      "40000     [1.52e-03, 1.75e-03, 3.81e-03, 1.59e-04, 9.20e-05, 1.11e-04, 5.25e-05, 4.71e-05, 7.45e-05]    [1.52e-03, 1.75e-03, 3.81e-03, 1.59e-04, 9.20e-05, 1.11e-04, 5.25e-05, 4.71e-05, 7.45e-05]    []  \n",
      "41000     [6.92e-02, 6.97e-03, 3.44e-02, 7.30e-04, 3.71e-04, 4.90e-04, 3.51e-04, 3.43e-04, 6.87e-04]    [6.92e-02, 6.97e-03, 3.44e-02, 7.30e-04, 3.71e-04, 4.90e-04, 3.51e-04, 3.43e-04, 6.87e-04]    []  \n",
      "42000     [3.94e-02, 2.11e-02, 5.37e-02, 3.56e-03, 9.24e-04, 2.46e-03, 1.21e-03, 1.04e-03, 2.61e-03]    [3.94e-02, 2.11e-02, 5.37e-02, 3.56e-03, 9.24e-04, 2.46e-03, 1.21e-03, 1.04e-03, 2.61e-03]    []  \n",
      "43000     [2.58e-03, 6.90e-04, 1.73e-03, 1.65e-07, 5.68e-12, 1.65e-07, 9.35e-05, 1.06e-04, 2.47e-04]    [2.58e-03, 6.90e-04, 1.73e-03, 1.65e-07, 5.68e-12, 1.65e-07, 9.35e-05, 1.06e-04, 2.47e-04]    []  \n",
      "44000     [1.26e-02, 1.74e-02, 2.83e-02, 1.03e-06, 2.54e-07, 6.40e-06, 3.48e-03, 4.56e-03, 1.01e-02]    [1.26e-02, 1.74e-02, 2.83e-02, 1.03e-06, 2.54e-07, 6.40e-06, 3.48e-03, 4.56e-03, 1.01e-02]    []  \n",
      "45000     [3.72e-02, 3.71e-03, 2.14e-02, 3.22e-03, 1.58e-03, 2.73e-03, 4.72e-04, 4.51e-04, 8.45e-04]    [3.72e-02, 3.71e-03, 2.14e-02, 3.22e-03, 1.58e-03, 2.73e-03, 4.72e-04, 4.51e-04, 8.45e-04]    []  \n",
      "46000     [1.19e-02, 2.63e-02, 1.77e-02, 2.53e-04, 2.68e-04, 2.59e-04, 1.59e-04, 1.33e-04, 1.01e-03]    [1.19e-02, 2.63e-02, 1.77e-02, 2.53e-04, 2.68e-04, 2.59e-04, 1.59e-04, 1.33e-04, 1.01e-03]    []  \n",
      "47000     [9.24e-03, 2.52e-03, 4.10e-03, 2.13e-03, 6.22e-04, 1.34e-03, 2.61e-04, 1.76e-04, 3.09e-04]    [9.24e-03, 2.52e-03, 4.10e-03, 2.13e-03, 6.22e-04, 1.34e-03, 2.61e-04, 1.76e-04, 3.09e-04]    []  \n",
      "48000     [1.02e-01, 9.80e-03, 5.82e-02, 3.15e-04, 2.45e-04, 2.64e-04, 9.74e-04, 9.71e-04, 2.07e-03]    [1.02e-01, 9.80e-03, 5.82e-02, 3.15e-04, 2.45e-04, 2.64e-04, 9.74e-04, 9.71e-04, 2.07e-03]    []  \n",
      "49000     [1.03e-02, 9.40e-04, 5.00e-03, 3.27e-04, 1.45e-04, 2.15e-04, 9.31e-05, 1.21e-04, 2.00e-04]    [1.03e-02, 9.40e-04, 5.00e-03, 3.27e-04, 1.45e-04, 2.15e-04, 9.31e-05, 1.21e-04, 2.00e-04]    []  \n",
      "50000     [1.28e-03, 3.93e-03, 2.81e-03, 1.60e-07, 1.88e-05, 5.66e-06, 2.67e-05, 5.21e-05, 1.77e-04]    [1.28e-03, 3.93e-03, 2.81e-03, 1.60e-07, 1.88e-05, 5.66e-06, 2.67e-05, 5.21e-05, 1.77e-04]    []  \n",
      "51000     [5.79e-04, 3.17e-04, 6.10e-04, 2.40e-06, 1.27e-05, 5.20e-06, 3.73e-05, 3.75e-05, 9.17e-05]    [5.79e-04, 3.17e-04, 6.10e-04, 2.40e-06, 1.27e-05, 5.20e-06, 3.73e-05, 3.75e-05, 9.17e-05]    []  \n",
      "52000     [7.51e-02, 8.10e-03, 2.92e-02, 1.43e-03, 1.11e-03, 1.25e-03, 4.13e-04, 5.59e-04, 9.33e-04]    [7.51e-02, 8.10e-03, 2.92e-02, 1.43e-03, 1.11e-03, 1.25e-03, 4.13e-04, 5.59e-04, 9.33e-04]    []  \n",
      "53000     [2.70e-02, 3.63e-03, 1.09e-02, 8.03e-04, 5.25e-04, 6.33e-04, 1.52e-04, 1.96e-04, 2.73e-04]    [2.70e-02, 3.63e-03, 1.09e-02, 8.03e-04, 5.25e-04, 6.33e-04, 1.52e-04, 1.96e-04, 2.73e-04]    []  \n",
      "54000     [8.54e-03, 1.22e-02, 3.91e-02, 2.03e-03, 9.77e-04, 1.53e-03, 3.62e-04, 4.39e-04, 7.94e-04]    [8.54e-03, 1.22e-02, 3.91e-02, 2.03e-03, 9.77e-04, 1.53e-03, 3.62e-04, 4.39e-04, 7.94e-04]    []  \n",
      "55000     [6.03e-03, 4.13e-03, 4.13e-03, 6.58e-04, 1.05e-04, 3.68e-04, 1.47e-04, 2.31e-04, 3.75e-04]    [6.03e-03, 4.13e-03, 4.13e-03, 6.58e-04, 1.05e-04, 3.68e-04, 1.47e-04, 2.31e-04, 3.75e-04]    []  \n",
      "56000     [6.48e-04, 3.86e-04, 7.61e-04, 8.29e-06, 2.02e-06, 6.27e-07, 6.21e-05, 7.15e-05, 1.85e-04]    [6.48e-04, 3.86e-04, 7.61e-04, 8.29e-06, 2.02e-06, 6.27e-07, 6.21e-05, 7.15e-05, 1.85e-04]    []  \n",
      "57000     [4.48e-03, 1.11e-03, 3.18e-03, 2.06e-06, 5.86e-06, 5.59e-08, 8.33e-05, 1.06e-04, 1.50e-04]    [4.48e-03, 1.11e-03, 3.18e-03, 2.06e-06, 5.86e-06, 5.59e-08, 8.33e-05, 1.06e-04, 1.50e-04]    []  \n",
      "58000     [1.41e-03, 3.01e-03, 1.69e-03, 5.29e-06, 8.26e-06, 1.40e-06, 2.57e-05, 2.12e-05, 1.01e-04]    [1.41e-03, 3.01e-03, 1.69e-03, 5.29e-06, 8.26e-06, 1.40e-06, 2.57e-05, 2.12e-05, 1.01e-04]    []  \n",
      "59000     [2.48e-02, 2.60e-03, 1.01e-02, 2.82e-03, 7.19e-04, 1.52e-03, 2.83e-04, 1.52e-04, 3.13e-04]    [2.48e-02, 2.60e-03, 1.01e-02, 2.82e-03, 7.19e-04, 1.52e-03, 2.83e-04, 1.52e-04, 3.13e-04]    []  \n",
      "60000     [1.09e-03, 3.98e-03, 2.47e-03, 2.64e-05, 2.27e-05, 4.56e-05, 2.64e-05, 3.30e-05, 1.88e-04]    [1.09e-03, 3.98e-03, 2.47e-03, 2.64e-05, 2.27e-05, 4.56e-05, 2.64e-05, 3.30e-05, 1.88e-04]    []  \n",
      "\n",
      "Best model at step 34000:\n",
      "  train loss: 1.53e-03\n",
      "  test loss: 1.53e-03\n",
      "  test metric: []\n",
      "\n",
      "'train' took 394.449170 s\n",
      "\n"
     ]
    }
   ],
   "source": [
    "\n",
    "# callbacks for storing results\n",
    "fnamevar = \"variables.dat\"\n",
    "variable = dde.callbacks.VariableValue(\n",
    "    [C1, C2, C3], \n",
    "    period=1,\n",
    "    filename=fnamevar\n",
    ")\n",
    "\n",
    "losshistory, train_state = res_model.train(epochs=60000, callbacks=[variable])"
   ]
  },
  {
   "cell_type": "code",
   "execution_count": 7,
   "metadata": {
    "executionInfo": {
     "elapsed": 251,
     "status": "ok",
     "timestamp": 1646160094590,
     "user": {
      "displayName": "Jostein Barry-Straume",
      "photoUrl": "https://lh3.googleusercontent.com/a/default-user=s64",
      "userId": "14559924148079490780"
     },
     "user_tz": 480
    },
    "id": "a8fatxVyg--d"
   },
   "outputs": [],
   "source": [
    "# true values, see p. 15 in https://arxiv.org/abs/1907.04502\n",
    "C1true = 10\n",
    "C2true = 15\n",
    "C3true = 8/3\n",
    "\n",
    "y_true = [C1true, C2true, C3true]\n",
    "y_pred = res_model.predict(observe_t)"
   ]
  },
  {
   "cell_type": "code",
   "execution_count": 8,
   "metadata": {
    "colab": {
     "base_uri": "https://localhost:8080/"
    },
    "executionInfo": {
     "elapsed": 3,
     "status": "ok",
     "timestamp": 1646160095557,
     "user": {
      "displayName": "Jostein Barry-Straume",
      "photoUrl": "https://lh3.googleusercontent.com/a/default-user=s64",
      "userId": "14559924148079490780"
     },
     "user_tz": 480
    },
    "id": "8xVqDO2GhQB_",
    "outputId": "128faa6f-dad0-470b-f824-739a943dbcfe"
   },
   "outputs": [
    {
     "data": {
      "text/plain": [
       "(25, 3)"
      ]
     },
     "execution_count": 8,
     "metadata": {},
     "output_type": "execute_result"
    }
   ],
   "source": [
    "y_pred.shape"
   ]
  },
  {
   "cell_type": "code",
   "execution_count": 9,
   "metadata": {
    "colab": {
     "base_uri": "https://localhost:8080/"
    },
    "executionInfo": {
     "elapsed": 241,
     "status": "ok",
     "timestamp": 1646160096669,
     "user": {
      "displayName": "Jostein Barry-Straume",
      "photoUrl": "https://lh3.googleusercontent.com/a/default-user=s64",
      "userId": "14559924148079490780"
     },
     "user_tz": 480
    },
    "id": "KtbktWzjh7T2",
    "outputId": "d1052dc6-c986-4901-d8a6-3bff1339b284"
   },
   "outputs": [
    {
     "data": {
      "text/plain": [
       "0.000865393169927097"
      ]
     },
     "execution_count": 9,
     "metadata": {},
     "output_type": "execute_result"
    }
   ],
   "source": [
    "y_pred = res_model.predict(observe_t)\n",
    "dde.metrics.l2_relative_error(ob_y, y_pred)"
   ]
  },
  {
   "cell_type": "markdown",
   "metadata": {
    "id": "I0DnPpkLAy1z"
   },
   "source": [
    " Plot identified parameters"
   ]
  },
  {
   "cell_type": "code",
   "execution_count": 10,
   "metadata": {
    "colab": {
     "base_uri": "https://localhost:8080/",
     "height": 295
    },
    "executionInfo": {
     "elapsed": 752,
     "status": "ok",
     "timestamp": 1646160099345,
     "user": {
      "displayName": "Jostein Barry-Straume",
      "photoUrl": "https://lh3.googleusercontent.com/a/default-user=s64",
      "userId": "14559924148079490780"
     },
     "user_tz": 480
    },
    "id": "A_PcgLloAy10",
    "outputId": "812d4592-f32e-4c36-d54f-dadd17204c3a"
   },
   "outputs": [
    {
     "data": {
      "image/png": "[encoded data removed]",
      "text/plain": [
       "<Figure size 432x288 with 1 Axes>"
      ]
     },
     "metadata": {
      "needs_background": "light"
     },
     "output_type": "display_data"
    }
   ],
   "source": [
    "# reopen saved data using callbacks in fnamevar \n",
    "lines = open(fnamevar, \"r\").readlines()\n",
    "\n",
    "# read output data in fnamevar (this line is a long story...)\n",
    "Chat = np.array([np.fromstring(min(re.findall(re.escape('[')+\"(.*?)\"+re.escape(']'),line), key=len), sep=',') for line in lines])\n",
    "\n",
    "l,c = Chat.shape\n",
    "\n",
    "plt.plot(range(l),Chat[:,0],'r-')\n",
    "plt.plot(range(l),Chat[:,1],'k-')\n",
    "plt.plot(range(l),Chat[:,2],'g-')\n",
    "plt.plot(range(l),np.ones(Chat[:,0].shape)*C1true,'r--')\n",
    "plt.plot(range(l),np.ones(Chat[:,1].shape)*C2true,'k--')\n",
    "plt.plot(range(l),np.ones(Chat[:,2].shape)*C3true,'g--')\n",
    "plt.legend(['C1hat','C2hat','C3hat','True C1','True C2','True C3'],loc = \"right\")\n",
    "plt.xlabel('Epoch')\n",
    "plt.title('Discovery of Ground Truth Coefficients')\n",
    "plt.show()"
   ]
  },
  {
   "cell_type": "code",
   "execution_count": 11,
   "metadata": {
    "colab": {
     "base_uri": "https://localhost:8080/",
     "height": 295
    },
    "executionInfo": {
     "elapsed": 574,
     "status": "ok",
     "timestamp": 1646160105601,
     "user": {
      "displayName": "Jostein Barry-Straume",
      "photoUrl": "https://lh3.googleusercontent.com/a/default-user=s64",
      "userId": "14559924148079490780"
     },
     "user_tz": 480
    },
    "id": "-IEFU6S2Ay11",
    "outputId": "be7d53d6-fbb1-4712-d166-e12896a93847"
   },
   "outputs": [
    {
     "data": {
      "image/png": "[encoded data removed]",
      "text/plain": [
       "<Figure size 432x288 with 1 Axes>"
      ]
     },
     "metadata": {
      "needs_background": "light"
     },
     "output_type": "display_data"
    }
   ],
   "source": [
    "yhat = res_model.predict(observe_t)\n",
    "\n",
    "plt.plot(observe_t, ob_y,'-',observe_t, yhat,'--')\n",
    "plt.xlabel('Time')\n",
    "plt.legend(['x','y','z','xh','yh','zh'])\n",
    "plt.title('Training data')\n",
    "plt.show()"
   ]
  },
  {
   "cell_type": "code",
   "execution_count": 12,
   "metadata": {
    "colab": {
     "base_uri": "https://localhost:8080/",
     "height": 295
    },
    "executionInfo": {
     "elapsed": 644,
     "status": "ok",
     "timestamp": 1646160113362,
     "user": {
      "displayName": "Jostein Barry-Straume",
      "photoUrl": "https://lh3.googleusercontent.com/a/default-user=s64",
      "userId": "14559924148079490780"
     },
     "user_tz": 480
    },
    "id": "lvTM4r0YW20D",
    "outputId": "02dfbbc0-d52a-4b1b-aa2c-4633ce05f15d"
   },
   "outputs": [
    {
     "data": {
      "image/png": "[encoded data removed]",
      "text/plain": [
       "<Figure size 432x288 with 2 Axes>"
      ]
     },
     "metadata": {
      "needs_background": "light"
     },
     "output_type": "display_data"
    }
   ],
   "source": [
    "'''\n",
    "Source:\n",
    "https://github.com/lululxvi/deepxde/issues/276\n",
    "'''\n",
    "#data = np.genfromtxt(fnamevar, delimiter=' ')\n",
    "x = Chat[:,0]\n",
    "y = Chat[:,1]\n",
    "z = Chat[:,2]\n",
    "\n",
    "fig, ax = plt.subplots(nrows=1)\n",
    "ax.tricontour(x, y, z, levels=14, linewidths=0.5, colors='k')\n",
    "cntr = ax.tricontourf(x, y, z, levels=14, cmap=\"RdBu_r\")\n",
    "\n",
    "fig.colorbar(cntr, ax=ax)\n",
    "ax.plot(x, y, 'k.', ms=3)\n",
    "ax.set_xlabel('x')\n",
    "ax.set_ylabel('y')\n",
    "plt.title('2D Contour Projection of 3D Data')\n",
    "plt.show()"
   ]
  },
  {
   "cell_type": "code",
   "execution_count": 13,
   "metadata": {
    "colab": {
     "base_uri": "https://localhost:8080/"
    },
    "executionInfo": {
     "elapsed": 230,
     "status": "ok",
     "timestamp": 1646160116224,
     "user": {
      "displayName": "Jostein Barry-Straume",
      "photoUrl": "https://lh3.googleusercontent.com/a/default-user=s64",
      "userId": "14559924148079490780"
     },
     "user_tz": 480
    },
    "id": "qNwG1mfQzdLj",
    "outputId": "ec305413-9a83-405d-8a27-4cc0040bcd71"
   },
   "outputs": [
    {
     "data": {
      "text/plain": [
       "(10, 15, 2.6666666666666665)"
      ]
     },
     "execution_count": 13,
     "metadata": {},
     "output_type": "execute_result"
    }
   ],
   "source": [
    "C1true, C2true, C3true"
   ]
  },
  {
   "cell_type": "code",
   "execution_count": 14,
   "metadata": {
    "colab": {
     "base_uri": "https://localhost:8080/",
     "height": 374
    },
    "executionInfo": {
     "elapsed": 2416,
     "status": "ok",
     "timestamp": 1646160119529,
     "user": {
      "displayName": "Jostein Barry-Straume",
      "photoUrl": "https://lh3.googleusercontent.com/a/default-user=s64",
      "userId": "14559924148079490780"
     },
     "user_tz": 480
    },
    "id": "VmbUDrxCA-1g",
    "outputId": "2f3a3693-891c-4670-dcf5-a6f2635d997c"
   },
   "outputs": [
    {
     "data": {
      "text/plain": [
       "Text(0.5, 0.92, '3D Scatterplot')"
      ]
     },
     "execution_count": 14,
     "metadata": {},
     "output_type": "execute_result"
    },
    {
     "data": {
      "image/png": "[encoded data removed]",
      "text/plain": [
       "<Figure size 576x432 with 1 Axes>"
      ]
     },
     "metadata": {
      "needs_background": "light"
     },
     "output_type": "display_data"
    }
   ],
   "source": [
    "fig = plt.figure(figsize=(8, 6))\n",
    "ax = plt.axes(projection='3d')\n",
    "ax.scatter3D(x, y, z, c=z, cmap='jet')\n",
    "ax.set_xlabel('X')\n",
    "ax.set_ylabel('Y')\n",
    "ax.set_zlabel('Z')\n",
    "plt.title('3D Scatterplot')"
   ]
  },
  {
   "cell_type": "markdown",
   "metadata": {
    "id": "fArrF9yLobQg"
   },
   "source": [
    "# Hyperparameter Tuning"
   ]
  },
  {
   "cell_type": "code",
   "execution_count": null,
   "metadata": {
    "id": "D2wE3v14ollU"
   },
   "outputs": [],
   "source": [
    "# Load the TensorBoard notebook extension\n",
    "%load_ext tensorboard"
   ]
  },
  {
   "cell_type": "code",
   "execution_count": null,
   "metadata": {
    "id": "nF9zeadMpjFS"
   },
   "outputs": [],
   "source": [
    "# Clear any logs from previous runs\n",
    "!rm -rf ./logs/"
   ]
  },
  {
   "cell_type": "code",
   "execution_count": null,
   "metadata": {
    "id": "q2xGqbTjpkaB"
   },
   "outputs": [],
   "source": [
    "%matplotlib inline"
   ]
  },
  {
   "cell_type": "code",
   "execution_count": null,
   "metadata": {
    "id": "l3aTFHQDpsbS"
   },
   "outputs": [],
   "source": [
    "from tensorboard.plugins.hparams import api as hp\n",
    "from tensorflow.keras.callbacks import CSVLogger\n",
    "import datetime\n",
    "tf.disable_v2_behavior()"
   ]
  },
  {
   "cell_type": "code",
   "execution_count": null,
   "metadata": {
    "id": "8lKH4odp2zmt"
   },
   "outputs": [],
   "source": [
    "'''\n",
    "Source:\n",
    "https://stackoverflow.com/questions/42481938/attributeerror-module-object-has-no-attribute-merge-all-summaries\n",
    "'''\n",
    "tf.merge_all_summaries = tf.summary.merge_all\n",
    "tf.train.SummaryWriter = tf.summary.FileWriter"
   ]
  },
  {
   "cell_type": "code",
   "execution_count": null,
   "metadata": {
    "id": "VFK6FM0mp_Cv"
   },
   "outputs": [],
   "source": [
    "'''\n",
    "Source:\n",
    "https://www.tensorflow.org/tensorboard/hyperparameter_tuning_with_hparams\n",
    "'''\n",
    "HP_NUM_BLOCKS = hp.HParam('num_blocks', hp.Discrete([3, 5, 7]))\n",
    "HP_NUM_NEURONS = hp.HParam('num_neurons', hp.Discrete([32, 64, 128]))\n",
    "HP_LEARNING_RATE = hp.HParam('learning_rate', hp.Discrete([0.001, 0.002]))\n",
    "#HP_OPTIMIZER = hp.HParam('optimizer', hp.Discrete(['adam', 'sgd']))\n",
    "HP_EPOCH = hp.HParam('epoch', hp.Discrete([10000, 30000, 50000]))\n",
    "\n",
    "METRIC_LOSS = 'loss'\n",
    "\n",
    "\n",
    "#writer = tf.summary.create_file_writer('logs/hparam_tuning')\n",
    "writer = tf.summary.FileWriter('logs/hparam_tuning')\n",
    "#writer = tf.train.SummaryWriter('logs/hparam_tuning')\n",
    "with writer:\n",
    "  hp.hparams_config(\n",
    "    hparams=[HP_NUM_BLOCKS, HP_NUM_NEURONS, HP_LEARNING_RATE, HP_EPOCH],\n",
    "    metrics=[hp.Metric(METRIC_LOSS, display_name='loss')],\n",
    "  )"
   ]
  },
  {
   "cell_type": "code",
   "execution_count": null,
   "metadata": {
    "id": "I-xVx2qvrDaO"
   },
   "outputs": [],
   "source": [
    "def make_model(hparams):\n",
    "  # define FNN architecture and compile\n",
    "  net = dde.maps.ResNet(input_size=1,\n",
    "                        output_size=3,\n",
    "                        activation=\"tanh\",\n",
    "                        kernel_initializer=\"Glorot uniform\",\n",
    "                        num_blocks=hparams[HP_NUM_BLOCKS],\n",
    "                        num_neurons=hparams[HP_NUM_NEURONS]\n",
    "                        )\n",
    "  model = dde.Model(data, net)\n",
    "  #model.compile(hparams[OPTIMIZER], lr=hparams[HP_OPTIMIZER])\n",
    "  return model"
   ]
  },
  {
   "cell_type": "code",
   "execution_count": null,
   "metadata": {
    "id": "0qVFGJEMH1e-"
   },
   "outputs": [],
   "source": [
    "def make_coef_plot(session_num, fnamevar):\n",
    "  # reopen saved data using callbacks in fnamevar \n",
    "  lines = open(fnamevar, \"r\").readlines()\n",
    "\n",
    "  # read output data in fnamevar (this line is a long story...)\n",
    "  Chat = np.array([np.fromstring(min(re.findall(re.escape('[')+\"(.*?)\"+re.escape(']'),line), key=len), sep=',') for line in lines])\n",
    "\n",
    "  l,c = Chat.shape\n",
    "\n",
    "  # Coefficient plot\n",
    "  fig_filename = '/content/drive/My Drive/deeplearning_finalproject/coefficient_plot_session_{num}.png'.format(num=session_num)\n",
    "\n",
    "  plt.plot(range(l),Chat[:,0],'r-')\n",
    "  plt.plot(range(l),Chat[:,1],'k-')\n",
    "  plt.plot(range(l),Chat[:,2],'g-')\n",
    "  plt.plot(range(l),np.ones(Chat[:,0].shape)*C1true,'r--')\n",
    "  plt.plot(range(l),np.ones(Chat[:,1].shape)*C2true,'k--')\n",
    "  plt.plot(range(l),np.ones(Chat[:,2].shape)*C3true,'g--')\n",
    "  plt.legend(['C1hat','C2hat','C3hat','True C1','True C2','True C3'],loc = \"right\")\n",
    "  plt.xlabel('Epoch')\n",
    "  plt.title('Discovery of Ground Truth Coefficients')\n",
    "  plt.savefig(fig_filename)\n",
    "  plt.clf()"
   ]
  },
  {
   "cell_type": "code",
   "execution_count": null,
   "metadata": {
    "id": "yc4GxV4aIZBy"
   },
   "outputs": [],
   "source": [
    "def make_preds_plot(session_num, model):\n",
    "  # Prediction plot\n",
    "  preds_fig_filename = '/content/drive/My Drive/deeplearning_finalproject/prediction_plot_session_{num}.png'.format(num=session_num)\n",
    "  yhat = model.predict(observe_t)\n",
    "\n",
    "  plt.plot(observe_t, ob_y,'-',observe_t, yhat,'--')\n",
    "  plt.xlabel('Time')\n",
    "  plt.legend(['x','y','z','xh','yh','zh'])\n",
    "  plt.title('Ground Truth vs Prediction')\n",
    "  plt.savefig(preds_fig_filename)\n",
    "  plt.clf()"
   ]
  },
  {
   "cell_type": "code",
   "execution_count": null,
   "metadata": {
    "id": "YFPFABqh7yAx"
   },
   "outputs": [],
   "source": [
    "def make_contour_plot(session_num, fnamevar, model):\n",
    "  # reopen saved data using callbacks in fnamevar \n",
    "  lines = open(fnamevar, \"r\").readlines()\n",
    "\n",
    "  # read output data in fnamevar (this line is a long story...)\n",
    "  Chat = np.array([np.fromstring(min(re.findall(re.escape('[')+\"(.*?)\"+re.escape(']'),line), key=len), sep=',') for line in lines])\n",
    "\n",
    "  l,c = Chat.shape\n",
    "\n",
    "  # Coefficient plot\n",
    "  fig_filename = '/content/drive/My Drive/deeplearning_finalproject/contour_plot_session_{num}.png'.format(num=session_num)\n",
    "  \n",
    "  '''\n",
    "  Source:\n",
    "  https://github.com/lululxvi/deepxde/issues/276\n",
    "  '''\n",
    "  #data = np.genfromtxt(fnamevar, delimiter=' ')\n",
    "  x = Chat[:,0]\n",
    "  y = Chat[:,1]\n",
    "  z = Chat[:,2]\n",
    "\n",
    "  fig, ax = plt.subplots(nrows=1)\n",
    "  ax.tricontour(x, y, z, levels=14, linewidths=0.5, colors='k')\n",
    "  cntr = ax.tricontourf(x, y, z, levels=14, cmap=\"RdBu_r\")\n",
    "\n",
    "  fig.colorbar(cntr, ax=ax)\n",
    "  ax.plot(x, y, 'k.', ms=3)\n",
    "  ax.set_xlabel('x')\n",
    "  ax.set_ylabel('y')\n",
    "  plt.title('2D Contour Projection of 3D Data')\n",
    "  plt.savefig(fig_filename)\n",
    "  plt.clf()"
   ]
  },
  {
   "cell_type": "code",
   "execution_count": null,
   "metadata": {
    "id": "r-DrN2cI78hI"
   },
   "outputs": [],
   "source": [
    "def make_3d_scatter(session_num, fnamevar, model):\n",
    "  fig_filename = '/content/drive/My Drive/deeplearning_finalproject/3d_scatter_plot_session_{num}.png'.format(num=session_num)\n",
    "  \n",
    "  # reopen saved data using callbacks in fnamevar \n",
    "  lines = open(fnamevar, \"r\").readlines()\n",
    "\n",
    "  # read output data in fnamevar (this line is a long story...)\n",
    "  Chat = np.array([np.fromstring(min(re.findall(re.escape('[')+\"(.*?)\"+re.escape(']'),line), key=len), sep=',') for line in lines])\n",
    "\n",
    "  l,c = Chat.shape\n",
    "  \n",
    "  x = Chat[:,0]\n",
    "  y = Chat[:,1]\n",
    "  z = Chat[:,2]\n",
    "\n",
    "  fig = plt.figure(figsize=(8, 6))\n",
    "  ax = plt.axes(projection='3d')\n",
    "  ax.scatter3D(x, y, z, c=z, cmap='jet')\n",
    "  ax.set_xlabel('X')\n",
    "  ax.set_ylabel('Y')\n",
    "  ax.set_zlabel('Z')\n",
    "  plt.title('3D Scatterplot')\n",
    "  plt.savefig(fig_filename)\n",
    "  plt.clf()"
   ]
  },
  {
   "cell_type": "code",
   "execution_count": null,
   "metadata": {
    "id": "pwbIwaNTq6H7"
   },
   "outputs": [],
   "source": [
    "'''\n",
    "Source:\n",
    "https://www.tensorflow.org/tensorboard/hyperparameter_tuning_with_hparams\n",
    "'''\n",
    "def train_test_model(hparams, session_num):\n",
    "  model = make_model(hparams)\n",
    "  model.compile('adam',\n",
    "                lr=hparams[HP_LEARNING_RATE])\n",
    "\n",
    "  # callbacks for storing results\n",
    "  fnamevar = '/content/drive/My Drive/deeplearning_finalproject/variables_session_{num}.dat'.format(num=session_num)\n",
    "  variable = dde.callbacks.VariableValue(\n",
    "      [C1, C2, C3], \n",
    "      period=1,\n",
    "      filename=fnamevar\n",
    "  )\n",
    "\n",
    "  losshistory, train_state = model.train(epochs=hparams[HP_EPOCH], callbacks=[variable])\n",
    "\n",
    "  # Calculate L2 Relative Error\n",
    "  # Needs to be done manually since the metric option when compiling doesn't work\n",
    "  y_pred = model.predict(observe_t)\n",
    "  l2_relative_error = dde.metrics.l2_relative_error(ob_y, y_pred)\n",
    "\n",
    "  # Make the plots corresponding to this model\n",
    "  make_coef_plot(session_num, fnamevar)\n",
    "  make_preds_plot(session_num, model)\n",
    "  make_contour_plot(session_num, fnamevar, model)\n",
    "  make_3d_scatter(session_num, fnamevar, model)\n",
    "\n",
    "  return losshistory, l2_relative_error"
   ]
  },
  {
   "cell_type": "code",
   "execution_count": null,
   "metadata": {
    "id": "IX0GRHIbt8jz"
   },
   "outputs": [],
   "source": [
    "model_scores = []"
   ]
  },
  {
   "cell_type": "code",
   "execution_count": null,
   "metadata": {
    "id": "8VEw82eQt8md"
   },
   "outputs": [],
   "source": [
    "'''\n",
    "Source:\n",
    "https://www.tensorflow.org/tensorboard/hyperparameter_tuning_with_hparams\n",
    "'''\n",
    "def run(run_dir, hparams, session_num):\n",
    "  with tf.summary.FileWriter(run_dir):\n",
    "  #with tf.summary.create_file_writer(run_dir).as_default():\n",
    "    hp.hparams(hparams)  # record the values used in this trial\n",
    "    loss, l2_relative_error = train_test_model(hparams, session_num)\n",
    "    \n",
    "    #print('###################')\n",
    "    #print('loss.loss_test: ', loss.loss_test)\n",
    "    #print('###################')\n",
    "    #print('')\n",
    "    \n",
    "    losses = loss.loss_test[0][0:3]\n",
    "    average_test_loss = np.mean(losses)\n",
    "    #accuracy = loss.metrics_test\n",
    "    \n",
    "    print('###################')\n",
    "    print('X, Y, Z Losses:    ', losses)\n",
    "    print('Average Test Loss: ', average_test_loss)\n",
    "    print('###################')\n",
    "    print('')\n",
    "    print('###################')\n",
    "    print('L2 Relative Error: ', l2_relative_error)\n",
    "    print('')\n",
    "    #print('Accuracy :', accuracy)\n",
    "\n",
    "    temp_dict = {h.name: hparams[h] for h in hparams}\n",
    "    temp_dict['average_loss'] = average_test_loss\n",
    "    temp_dict['x_loss'] = losses[0]\n",
    "    temp_dict['y_loss'] = losses[1]\n",
    "    temp_dict['z_loss'] = losses[2]\n",
    "    temp_dict['l2_relative_error'] = l2_relative_error\n",
    "    #temp_dict['accuracy'] = accuracy\n",
    "\n",
    "    model_scores.append(temp_dict)\n",
    "    tf.summary.scalar(METRIC_LOSS, average_test_loss)"
   ]
  },
  {
   "cell_type": "code",
   "execution_count": null,
   "metadata": {
    "id": "IICUwIbouJHa"
   },
   "outputs": [],
   "source": [
    "'''\n",
    "Source:\n",
    "https://www.tensorflow.org/tensorboard/hyperparameter_tuning_with_hparams\n",
    "'''\n",
    "session_num = 0\n",
    "for num_blocks in HP_NUM_BLOCKS.domain.values:\n",
    "  for num_neurons in HP_NUM_NEURONS.domain.values:\n",
    "    for learning_rate in HP_LEARNING_RATE.domain.values:\n",
    "      for epoch in HP_EPOCH.domain.values:\n",
    "        hparams = {\n",
    "           HP_NUM_BLOCKS: num_blocks,\n",
    "           HP_NUM_NEURONS: num_neurons,\n",
    "           HP_LEARNING_RATE: learning_rate,\n",
    "           HP_EPOCH: epoch\n",
    "        }\n",
    "        run_name = \"run-%d\" % session_num\n",
    "        print('--- Starting trial: %s' % run_name)\n",
    "        print({h.name: hparams[h] for h in hparams})\n",
    "        run('logs/hparam_tuning/' + run_name, hparams, session_num)\n",
    "        session_num += 1"
   ]
  },
  {
   "cell_type": "code",
   "execution_count": null,
   "metadata": {
    "id": "LosFkBcN03_x"
   },
   "outputs": [],
   "source": []
  },
  {
   "cell_type": "code",
   "execution_count": null,
   "metadata": {
    "id": "i9eyuNoYt8pa"
   },
   "outputs": [],
   "source": [
    "print(model_scores)"
   ]
  },
  {
   "cell_type": "code",
   "execution_count": null,
   "metadata": {
    "id": "x48PbFaOMaKD"
   },
   "outputs": [],
   "source": [
    "import pandas as pd"
   ]
  },
  {
   "cell_type": "code",
   "execution_count": null,
   "metadata": {
    "id": "_cVuBAO7vYtW"
   },
   "outputs": [],
   "source": [
    "df = pd.DataFrame.from_dict(model_scores)\n",
    "df.to_csv('/content/drive/My Drive/deeplearning_finalproject/model_scores.csv', columns=df.columns)"
   ]
  },
  {
   "cell_type": "code",
   "execution_count": null,
   "metadata": {
    "id": "LqF7IDqyvn-D"
   },
   "outputs": [],
   "source": [
    "%tensorboard --logdir logs/hparam_tuning"
   ]
  },
  {
   "cell_type": "code",
   "execution_count": null,
   "metadata": {
    "id": "BlCzBY779c3O"
   },
   "outputs": [],
   "source": [
    "!ls"
   ]
  },
  {
   "cell_type": "code",
   "execution_count": null,
   "metadata": {
    "id": "HjHrLhr16Z_o"
   },
   "outputs": [],
   "source": [
    "!ls logs/hparam_tuning/"
   ]
  },
  {
   "cell_type": "code",
   "execution_count": null,
   "metadata": {
    "id": "Wj-WCa-t6b08"
   },
   "outputs": [],
   "source": []
  },
  {
   "cell_type": "markdown",
   "metadata": {
    "id": "V3jgG5I_dv75"
   },
   "source": [
    "# Plot Results"
   ]
  },
  {
   "cell_type": "code",
   "execution_count": null,
   "metadata": {
    "id": "l5GP05sldzUF"
   },
   "outputs": [],
   "source": []
  },
  {
   "cell_type": "code",
   "execution_count": null,
   "metadata": {
    "id": "298dkk6Pd5WO"
   },
   "outputs": [],
   "source": [
    "import pandas as pd"
   ]
  },
  {
   "cell_type": "code",
   "execution_count": null,
   "metadata": {
    "id": "FXRUUuIId5WP"
   },
   "outputs": [],
   "source": [
    "df = pd.read_csv('/content/drive/My Drive/deeplearning_finalproject/model_scores.csv')"
   ]
  },
  {
   "cell_type": "code",
   "execution_count": null,
   "metadata": {
    "id": "p7cCKbOJeDAC"
   },
   "outputs": [],
   "source": [
    "df.columns"
   ]
  },
  {
   "cell_type": "code",
   "execution_count": null,
   "metadata": {
    "id": "dyYfiuhWeElS"
   },
   "outputs": [],
   "source": [
    "df.rename(columns={'Unnamed: 0':'session'}, inplace=True)"
   ]
  },
  {
   "cell_type": "code",
   "execution_count": null,
   "metadata": {
    "id": "urKqNQRReHHx"
   },
   "outputs": [],
   "source": [
    "df.head()"
   ]
  },
  {
   "cell_type": "code",
   "execution_count": null,
   "metadata": {
    "id": "1k-UKr-re2sb"
   },
   "outputs": [],
   "source": [
    "df = df.sort_values(by=['l2_relative_error', 'average_loss'], ascending=[True, True])"
   ]
  },
  {
   "cell_type": "code",
   "execution_count": null,
   "metadata": {
    "id": "Qc85Z07SfuQ7"
   },
   "outputs": [],
   "source": [
    "df.head()"
   ]
  },
  {
   "cell_type": "code",
   "execution_count": null,
   "metadata": {
    "id": "O7FzY0bciyHs"
   },
   "outputs": [],
   "source": [
    "df.to_csv('/content/drive/My Drive/deeplearning_finalproject/sorted_model_scores.csv', columns=df.columns)"
   ]
  },
  {
   "cell_type": "code",
   "execution_count": null,
   "metadata": {
    "id": "q1tNUoeQjmVy"
   },
   "outputs": [],
   "source": [
    "df.dtypes"
   ]
  },
  {
   "cell_type": "code",
   "execution_count": null,
   "metadata": {
    "id": "APa5vD12kt86"
   },
   "outputs": [],
   "source": [
    "df['accuracy'][0]"
   ]
  },
  {
   "cell_type": "code",
   "execution_count": null,
   "metadata": {
    "id": "iShxokt3lVcp"
   },
   "outputs": [],
   "source": [
    "df['accuracy'] = [str(i.replace('[','')) for i in df['accuracy']]\n",
    "df['accuracy'] = [str(i.replace(']','')) for i in df['accuracy']]"
   ]
  },
  {
   "cell_type": "code",
   "execution_count": null,
   "metadata": {
    "id": "qC1gJLeTjsuY"
   },
   "outputs": [],
   "source": [
    "df['accuracy'] = pd.to_numeric(df['accuracy'], errors='coerce')"
   ]
  },
  {
   "cell_type": "code",
   "execution_count": null,
   "metadata": {
    "id": "rnYd-RCOj-ud"
   },
   "outputs": [],
   "source": [
    "df"
   ]
  },
  {
   "cell_type": "code",
   "execution_count": null,
   "metadata": {
    "id": "Zm-o4BI1kgQg"
   },
   "outputs": [],
   "source": [
    "import matplotlib.pyplot as plt\n",
    "import seaborn as sns\n",
    "sns.set_theme(style='whitegrid')"
   ]
  },
  {
   "cell_type": "code",
   "execution_count": null,
   "metadata": {
    "id": "k7ZqjB0d-U-0"
   },
   "outputs": [],
   "source": [
    "splot = sns.violinplot(data=df, x=\"num_blocks\", y=\"average_loss\", hue=\"learning_rate\",\n",
    "               split=True, inner=\"quart\", linewidth=1,\n",
    "               palette={0.001: \"b\", 0.002: \"g\"})\n",
    "sns.despine(left=True)\n",
    "plt.xlabel('Number of ResNet Blocks')\n",
    "plt.ylabel('Average Loss of Coefficients')\n",
    "plt.title('Average Loss by Number of Blocks per Learning Rate')"
   ]
  },
  {
   "cell_type": "code",
   "execution_count": null,
   "metadata": {
    "id": "fELTwMcK-omN"
   },
   "outputs": [],
   "source": [
    "splot = sns.violinplot(data=df, x=\"num_neurons\", y=\"average_loss\", hue=\"learning_rate\",\n",
    "               split=True, inner=\"quart\", linewidth=1,\n",
    "               palette={0.001: \"b\", 0.002: \"g\"})\n",
    "sns.despine(left=True)\n",
    "plt.xlabel('Neural Density')\n",
    "plt.ylabel('Average Loss of Coefficients')\n",
    "plt.title('Average Loss by Neural Density per Learning Rate')"
   ]
  },
  {
   "cell_type": "code",
   "execution_count": null,
   "metadata": {
    "id": "pjNdBPqr-7P6"
   },
   "outputs": [],
   "source": [
    "splot = sns.violinplot(data=df, x=\"epoch\", y=\"average_loss\", hue=\"learning_rate\",\n",
    "               split=True, inner=\"quart\", linewidth=1,\n",
    "               palette={0.001: \"b\", 0.002: \"g\"})\n",
    "sns.despine(left=True)\n",
    "plt.xlabel('Epochs')\n",
    "plt.ylabel('Average Loss of Coefficients')\n",
    "plt.title('Average Loss by Epoch per Learning Rate')"
   ]
  },
  {
   "cell_type": "code",
   "execution_count": null,
   "metadata": {
    "id": "eTcrKpgw_DuZ"
   },
   "outputs": [],
   "source": []
  },
  {
   "cell_type": "code",
   "execution_count": null,
   "metadata": {
    "id": "jDGuQVt1uUci"
   },
   "outputs": [],
   "source": [
    "splot = sns.violinplot(data=df, x=\"num_blocks\", y=\"l2_relative_error\", hue=\"learning_rate\",\n",
    "               split=True, inner=\"quart\", linewidth=1,\n",
    "               palette={0.001: \"r\", 0.002: \"b\"})\n",
    "sns.despine(left=True)\n",
    "plt.xlabel('Number of ResNet Blocks')\n",
    "plt.ylabel('L2 Relative Error')\n",
    "plt.title('L2 Relative Error by Number of Blocks per Learning Rate')"
   ]
  },
  {
   "cell_type": "code",
   "execution_count": null,
   "metadata": {
    "id": "6Mjl9g3TuUct"
   },
   "outputs": [],
   "source": [
    "splot = sns.violinplot(data=df, x=\"num_neurons\", y=\"l2_relative_error\", hue=\"learning_rate\",\n",
    "               split=True, inner=\"quart\", linewidth=1,\n",
    "               palette={0.001: \"r\", 0.002: \"b\"})\n",
    "sns.despine(left=True)\n",
    "plt.xlabel('Neural Density')\n",
    "plt.ylabel('L2 Relative Error')\n",
    "plt.title('L2 Relative Error by Neural Density per Learning Rate')"
   ]
  },
  {
   "cell_type": "code",
   "execution_count": null,
   "metadata": {
    "id": "kaBVEtrxuUcu"
   },
   "outputs": [],
   "source": [
    "splot = sns.violinplot(data=df, x=\"epoch\", y=\"l2_relative_error\", hue=\"learning_rate\",\n",
    "               split=True, inner=\"quart\", linewidth=1,\n",
    "               palette={0.001: \"r\", 0.002: \"b\"})\n",
    "sns.despine(left=True)\n",
    "plt.xlabel('Epochs')\n",
    "plt.ylabel('L2 Relative Error')\n",
    "plt.title('L2 Relative Error by Epoch per Learning Rate')"
   ]
  },
  {
   "cell_type": "code",
   "execution_count": null,
   "metadata": {
    "id": "avfSM3iQ_a9i"
   },
   "outputs": [],
   "source": [
    "fnamevar = '/content/drive/My Drive/deeplearning_finalproject/variables_session_20.dat'\n",
    "# reopen saved data using callbacks in fnamevar \n",
    "lines = open(fnamevar, \"r\").readlines()\n",
    "\n",
    "# read output data in fnamevar (this line is a long story...)\n",
    "Chat = np.array([np.fromstring(min(re.findall(re.escape('[')+\"(.*?)\"+re.escape(']'),line), key=len), sep=',') for line in lines])\n",
    "\n",
    "l,c = Chat.shape\n",
    "\n",
    "plt.plot(range(l),Chat[:,0],'r-')\n",
    "plt.plot(range(l),Chat[:,1],'k-')\n",
    "plt.plot(range(l),Chat[:,2],'g-')\n",
    "plt.plot(range(l),np.ones(Chat[:,0].shape)*C1true,'r--')\n",
    "plt.plot(range(l),np.ones(Chat[:,1].shape)*C2true,'k--')\n",
    "plt.plot(range(l),np.ones(Chat[:,2].shape)*C3true,'g--')\n",
    "plt.legend(['C1hat','C2hat','C3hat','True C1','True C2','True C3'],loc = \"right\")\n",
    "plt.xlabel('Epoch')\n",
    "#plt.show()\n",
    "plt.savefig('/content/drive/My Drive/deeplearning_finalproject/testfig.png')"
   ]
  },
  {
   "cell_type": "code",
   "execution_count": null,
   "metadata": {
    "id": "WJQYnbd8_a9j"
   },
   "outputs": [],
   "source": [
    "yhat = res_model.predict(observe_t)\n",
    "\n",
    "plt.plot(observe_t, ob_y,'-',observe_t, yhat,'--')\n",
    "plt.xlabel('Time')\n",
    "plt.legend(['x','y','z','xh','yh','zh'])\n",
    "plt.title('Training data')\n",
    "plt.show()"
   ]
  }
 ],
 "metadata": {
  "accelerator": "GPU",
  "colab": {
   "collapsed_sections": [],
   "name": "DeepLearning_FinalProject_BarryStraume_Jostein.ipynb",
   "provenance": [
    {
     "file_id": "1QdwElhZT5epkW9_hGMLyvjvkFJE4svLB",
     "timestamp": 1619817035096
    },
    {
     "file_id": "https://github.com/lululxvi/deepxde/blob/master/examples/Lorenz_inverse_Colab.ipynb",
     "timestamp": 1619621755542
    }
   ]
  },
  "kernelspec": {
   "display_name": "Python 3 (ipykernel)",
   "language": "python",
   "name": "python3"
  },
  "language_info": {
   "codemirror_mode": {
    "name": "ipython",
    "version": 3
   },
   "file_extension": ".py",
   "mimetype": "text/x-python",
   "name": "python",
   "nbconvert_exporter": "python",
   "pygments_lexer": "ipython3",
   "version": "3.11.4"
  }
 },
 "nbformat": 4,
 "nbformat_minor": 1
}
